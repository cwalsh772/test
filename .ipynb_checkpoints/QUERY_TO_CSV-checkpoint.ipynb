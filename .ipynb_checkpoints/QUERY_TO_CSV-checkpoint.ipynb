{
 "cells": [
  {
   "cell_type": "code",
   "execution_count": 1,
   "metadata": {},
   "outputs": [],
   "source": [
    "#https://iextrading.com/developer/docs/#attribution\n",
    "#https://pypi.org/project/iexfinance/\n",
    "\n",
    "from iexfinance.stocks import Stock\n",
    "from datetime import datetime, timedelta\n",
    "import numpy as np\n",
    "from iexfinance.stocks import get_historical_data\n",
    "import pandas as pd\n",
    "\n",
    "API_KEY = \"pk_02b9dcc6224746218ad55dcd0fe08099\"\n",
    "\n",
    "token = API_KEY"
   ]
  },
  {
   "cell_type": "code",
   "execution_count": 2,
   "metadata": {},
   "outputs": [
    {
     "name": "stdout",
     "output_type": "stream",
     "text": [
      "Ticker Symbol: fb\n"
     ]
    }
   ],
   "source": [
    "tickerSymbol = input(\"Ticker Symbol: \")\n",
    "companyInfo = Stock(tickerSymbol, token = API_KEY)\n",
    "stockPrice = companyInfo.get_price()\n"
   ]
  },
  {
   "cell_type": "code",
   "execution_count": 3,
   "metadata": {
    "scrolled": true
   },
   "outputs": [
    {
     "name": "stdout",
     "output_type": "stream",
     "text": [
      "Current Stock Price: 273.21\n"
     ]
    }
   ],
   "source": [
    "print(\"Current Stock Price:\",stockPrice)"
   ]
  },
  {
   "cell_type": "code",
   "execution_count": 4,
   "metadata": {},
   "outputs": [
    {
     "name": "stdout",
     "output_type": "stream",
     "text": [
      "View Historical Information for the current stock fb:\n",
      "input start date as yyyy,m,d: 2020,1,1\n",
      "input end date as yyyy,m,d:2020,8,1\n"
     ]
    }
   ],
   "source": [
    "print(\"View Historical Information for the current stock {}:\".format(tickerSymbol))\n",
    "sy, sm, sd = eval(input(\"input start date as yyyy,m,d: \"))\n",
    "ey, em, ed = eval(input(\"input end date as yyyy,m,d:\"  ))"
   ]
  },
  {
   "cell_type": "code",
   "execution_count": 5,
   "metadata": {},
   "outputs": [],
   "source": [
    "start = datetime(sy,sm,sd)\n",
    "end = datetime(ey, em,ed)\n",
    "\n",
    "historicalPrices = get_historical_data(tickerSymbol, start, end, token = API_KEY)\n"
   ]
  },
  {
   "cell_type": "code",
   "execution_count": 6,
   "metadata": {},
   "outputs": [],
   "source": [
    "stockHistoricals = pd.DataFrame(historicalPrices).T\n"
   ]
  },
  {
   "cell_type": "code",
   "execution_count": 7,
   "metadata": {},
   "outputs": [
    {
     "data": {
      "text/html": [
       "<div>\n",
       "<style scoped>\n",
       "    .dataframe tbody tr th:only-of-type {\n",
       "        vertical-align: middle;\n",
       "    }\n",
       "\n",
       "    .dataframe tbody tr th {\n",
       "        vertical-align: top;\n",
       "    }\n",
       "\n",
       "    .dataframe thead th {\n",
       "        text-align: right;\n",
       "    }\n",
       "</style>\n",
       "<table border=\"1\" class=\"dataframe\">\n",
       "  <thead>\n",
       "    <tr style=\"text-align: right;\">\n",
       "      <th></th>\n",
       "      <th>open</th>\n",
       "      <th>high</th>\n",
       "      <th>low</th>\n",
       "      <th>close</th>\n",
       "      <th>volume</th>\n",
       "    </tr>\n",
       "  </thead>\n",
       "  <tbody>\n",
       "    <tr>\n",
       "      <th>2020-01-02</th>\n",
       "      <td>206.75</td>\n",
       "      <td>209.79</td>\n",
       "      <td>206.27</td>\n",
       "      <td>209.78</td>\n",
       "      <td>12090707.0</td>\n",
       "    </tr>\n",
       "    <tr>\n",
       "      <th>2020-01-03</th>\n",
       "      <td>207.21</td>\n",
       "      <td>210.40</td>\n",
       "      <td>206.95</td>\n",
       "      <td>208.67</td>\n",
       "      <td>11197416.0</td>\n",
       "    </tr>\n",
       "    <tr>\n",
       "      <th>2020-01-06</th>\n",
       "      <td>206.70</td>\n",
       "      <td>212.78</td>\n",
       "      <td>206.52</td>\n",
       "      <td>212.60</td>\n",
       "      <td>17073861.0</td>\n",
       "    </tr>\n",
       "    <tr>\n",
       "      <th>2020-01-07</th>\n",
       "      <td>212.82</td>\n",
       "      <td>214.58</td>\n",
       "      <td>211.75</td>\n",
       "      <td>213.06</td>\n",
       "      <td>15111857.0</td>\n",
       "    </tr>\n",
       "    <tr>\n",
       "      <th>2020-01-08</th>\n",
       "      <td>213.00</td>\n",
       "      <td>216.24</td>\n",
       "      <td>212.61</td>\n",
       "      <td>215.22</td>\n",
       "      <td>13492703.0</td>\n",
       "    </tr>\n",
       "  </tbody>\n",
       "</table>\n",
       "</div>"
      ],
      "text/plain": [
       "              open    high     low   close      volume\n",
       "2020-01-02  206.75  209.79  206.27  209.78  12090707.0\n",
       "2020-01-03  207.21  210.40  206.95  208.67  11197416.0\n",
       "2020-01-06  206.70  212.78  206.52  212.60  17073861.0\n",
       "2020-01-07  212.82  214.58  211.75  213.06  15111857.0\n",
       "2020-01-08  213.00  216.24  212.61  215.22  13492703.0"
      ]
     },
     "metadata": {},
     "output_type": "display_data"
    }
   ],
   "source": [
    "display(stockHistoricals.head())"
   ]
  },
  {
   "cell_type": "code",
   "execution_count": 12,
   "metadata": {},
   "outputs": [
    {
     "ename": "SyntaxError",
     "evalue": "EOL while scanning string literal (<ipython-input-12-dd56dd62a023>, line 2)",
     "output_type": "error",
     "traceback": [
      "\u001b[1;36m  File \u001b[1;32m\"<ipython-input-12-dd56dd62a023>\"\u001b[1;36m, line \u001b[1;32m2\u001b[0m\n\u001b[1;33m    FinalDF= stockHistoricals[[\"open\", 'high\", \"low\", \"close\", \"volume\"]].copy()\u001b[0m\n\u001b[1;37m                                                                                ^\u001b[0m\n\u001b[1;31mSyntaxError\u001b[0m\u001b[1;31m:\u001b[0m EOL while scanning string literal\n"
     ]
    }
   ],
   "source": [
    "# FinalDF = pd.DataFrame()\n",
    "# FinalDF= stockHistoricals[[\"open\", 'high\", \"low\", \"close\", \"volume\"]].copy()"
   ]
  },
  {
   "cell_type": "code",
   "execution_count": null,
   "metadata": {},
   "outputs": [],
   "source": [
    "stockHistoricals.rename(columns = {\"open\":\"Open\", \"high\":\"High\", \"low\":\"Low\", \"close\":\"Close\", \"volume\":\"Volume\"}, inplace=True) \n",
    "stockHistoricals.index.name = 'Date'\n",
    "                     "
   ]
  },
  {
   "cell_type": "code",
   "execution_count": null,
   "metadata": {},
   "outputs": [],
   "source": [
    "# pd.DataFrame(new) = stockHistoricals[[\"open\", 'high\", \"low\", \"close\", \"close\", \"volume\"]].copy()"
   ]
  },
  {
   "cell_type": "code",
   "execution_count": null,
   "metadata": {},
   "outputs": [],
   "source": [
    "stockHistoricals.head()"
   ]
  },
  {
   "cell_type": "code",
   "execution_count": null,
   "metadata": {},
   "outputs": [],
   "source": [
    "stockHistoricals.to_csv(\"Data_FC2-KPN.csv\")"
   ]
  },
  {
   "cell_type": "code",
   "execution_count": null,
   "metadata": {},
   "outputs": [],
   "source": []
  }
 ],
 "metadata": {
  "kernelspec": {
   "display_name": "Python 3",
   "language": "python",
   "name": "python3"
  },
  "language_info": {
   "codemirror_mode": {
    "name": "ipython",
    "version": 3
   },
   "file_extension": ".py",
   "mimetype": "text/x-python",
   "name": "python",
   "nbconvert_exporter": "python",
   "pygments_lexer": "ipython3",
   "version": "3.7.6"
  }
 },
 "nbformat": 4,
 "nbformat_minor": 2
}
